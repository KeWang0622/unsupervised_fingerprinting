{
 "cells": [
  {
   "cell_type": "code",
   "execution_count": 147,
   "metadata": {},
   "outputs": [],
   "source": [
    "import sigpy.plot as pl\n",
    "import numpy as np\n",
    "import torch\n",
    "import torch.backends.cudnn as cudnn\n",
    "import torch.nn as nn\n",
    "import torch.nn.functional as F\n",
    "from torch import optim\n",
    "import scipy.io\n",
    "from torch.autograd import Variable\n",
    "% matplotlib notebook"
   ]
  },
  {
   "cell_type": "code",
   "execution_count": 2,
   "metadata": {},
   "outputs": [],
   "source": [
    "import UFNet"
   ]
  },
  {
   "cell_type": "code",
   "execution_count": 6,
   "metadata": {},
   "outputs": [],
   "source": [
    "mrf_dict = scipy.io.loadmat('/mikRAID/jtamir/projects/MRF_direct_contrast_synthesis/data/DictionaryAndSequenceInfo/fp_dictionary.mat')\n",
    "# print(MRF_dic.keys())\n",
    "fp_dict = mrf_dict['fp_dict']\n",
    "t1_list = mrf_dict['t1_list']\n",
    "t2_list = mrf_dict['t2_list']\n",
    "N_dict = t1_list.shape[0]"
   ]
  },
  {
   "cell_type": "code",
   "execution_count": 7,
   "metadata": {},
   "outputs": [],
   "source": [
    "def read_flipangles(flip_file):\n",
    "    f = open(flip_file)\n",
    "    flips =  [float(a) for a in f.readlines()]\n",
    "    f.close()\n",
    "    return np.array(flips)\n",
    "flips = read_flipangles('/mikRAID/jtamir/projects/MRF_direct_contrast_synthesis/data/DictionaryAndSequenceInfo/flipangles.txt')\n",
    "N_flip = len(flips)"
   ]
  },
  {
   "cell_type": "code",
   "execution_count": 8,
   "metadata": {},
   "outputs": [
    {
     "name": "stdout",
     "output_type": "stream",
     "text": [
      "(500, 22031, 2)\n"
     ]
    }
   ],
   "source": [
    "fp_dic = np.hstack(list(fp_dict[0][0])).reshape((N_flip, 2, N_dict)).transpose((0, 2, 1))\n",
    "# fp_dic = fp_dic[:,:,0] + 1j * fp_dic[:,:,1]\n",
    "print(fp_dic.shape)"
   ]
  },
  {
   "cell_type": "code",
   "execution_count": 9,
   "metadata": {},
   "outputs": [],
   "source": [
    "fp_train = fp_dic.transpose((1,2,0))"
   ]
  },
  {
   "cell_type": "code",
   "execution_count": 10,
   "metadata": {},
   "outputs": [
    {
     "data": {
      "text/plain": [
       "(22031, 2, 500)"
      ]
     },
     "execution_count": 10,
     "metadata": {},
     "output_type": "execute_result"
    }
   ],
   "source": [
    "fp_train.shape"
   ]
  },
  {
   "cell_type": "code",
   "execution_count": 98,
   "metadata": {},
   "outputs": [],
   "source": [
    "p = np.random.rand(22031,256)\n",
    "p_norm = np.linalg.norm(p,axis=1)\n",
    "p_normal = p/p_norm[None,:].T\n",
    "B_tensor = torch.tensor(p_normal)"
   ]
  },
  {
   "cell_type": "code",
   "execution_count": 85,
   "metadata": {},
   "outputs": [],
   "source": [
    "inp = torch.mm(B_tensor,t.double().transpose(0,1)).transpose(0,1)"
   ]
  },
  {
   "cell_type": "code",
   "execution_count": 87,
   "metadata": {},
   "outputs": [
    {
     "data": {
      "text/plain": [
       "tensor(10.0178, dtype=torch.float64, grad_fn=<NllLossBackward>)"
      ]
     },
     "execution_count": 87,
     "metadata": {},
     "output_type": "execute_result"
    }
   ],
   "source": [
    "a(inp,torch.LongTensor([3]))"
   ]
  },
  {
   "cell_type": "code",
   "execution_count": 78,
   "metadata": {},
   "outputs": [
    {
     "data": {
      "text/plain": [
       "CrossEntropyLoss()"
      ]
     },
     "execution_count": 78,
     "metadata": {},
     "output_type": "execute_result"
    }
   ],
   "source": [
    "a"
   ]
  },
  {
   "cell_type": "code",
   "execution_count": null,
   "metadata": {},
   "outputs": [],
   "source": [
    "Memory_Bank"
   ]
  },
  {
   "cell_type": "code",
   "execution_count": 11,
   "metadata": {},
   "outputs": [],
   "source": [
    "Net = UFNet.PixelNet(2)"
   ]
  },
  {
   "cell_type": "code",
   "execution_count": 103,
   "metadata": {},
   "outputs": [],
   "source": [
    "B_tensor[100,:] = t"
   ]
  },
  {
   "cell_type": "code",
   "execution_count": 12,
   "metadata": {},
   "outputs": [
    {
     "data": {
      "text/plain": [
       "PixelNet(\n",
       "  (conv1): Conv1d(2, 16, kernel_size=(3,), stride=(1,))\n",
       "  (pool): MaxPool1d(kernel_size=2, stride=2, padding=0, dilation=1, ceil_mode=False)\n",
       "  (relu): ReLU()\n",
       "  (conv2): Conv1d(16, 32, kernel_size=(3,), stride=(1,))\n",
       "  (conv3): Conv1d(32, 64, kernel_size=(3,), stride=(1,))\n",
       "  (fc1): Linear(in_features=3840, out_features=512, bias=True)\n",
       "  (fc2): Linear(in_features=512, out_features=256, bias=True)\n",
       ")"
      ]
     },
     "execution_count": 12,
     "metadata": {},
     "output_type": "execute_result"
    }
   ],
   "source": [
    "Net.train()"
   ]
  },
  {
   "cell_type": "code",
   "execution_count": 105,
   "metadata": {},
   "outputs": [
    {
     "data": {
      "text/plain": [
       "(22031, 2, 500)"
      ]
     },
     "execution_count": 105,
     "metadata": {},
     "output_type": "execute_result"
    }
   ],
   "source": [
    "fp_train.shape"
   ]
  },
  {
   "cell_type": "code",
   "execution_count": 13,
   "metadata": {},
   "outputs": [],
   "source": [
    "b = torch.tensor(fp_train[1000,:,:])"
   ]
  },
  {
   "cell_type": "code",
   "execution_count": 14,
   "metadata": {},
   "outputs": [],
   "source": [
    "p = b.unsqueeze(0)"
   ]
  },
  {
   "cell_type": "code",
   "execution_count": 16,
   "metadata": {},
   "outputs": [],
   "source": [
    "t = Net(p)"
   ]
  },
  {
   "cell_type": "code",
   "execution_count": 102,
   "metadata": {},
   "outputs": [
    {
     "data": {
      "text/plain": [
       "torch.Size([1, 256])"
      ]
     },
     "execution_count": 102,
     "metadata": {},
     "output_type": "execute_result"
    }
   ],
   "source": [
    "t.shape"
   ]
  },
  {
   "cell_type": "code",
   "execution_count": 97,
   "metadata": {},
   "outputs": [
    {
     "name": "stdout",
     "output_type": "stream",
     "text": [
      "Starting Epoch: 2\n"
     ]
    }
   ],
   "source": [
    "print(\"Starting Epoch: %d\" %2)"
   ]
  },
  {
   "cell_type": "code",
   "execution_count": 104,
   "metadata": {},
   "outputs": [],
   "source": [
    "p = np.random.rand(22031,256)\n",
    "p_norm = np.linalg.norm(p,axis=1)\n",
    "p_normal = p/p_norm[None,:].T\n",
    "B_tensor = torch.tensor(p_normal)"
   ]
  },
  {
   "cell_type": "code",
   "execution_count": 185,
   "metadata": {},
   "outputs": [
    {
     "data": {
      "text/plain": [
       "tensor([[-0.0039,  0.9980, -0.0039,  ..., -0.0039, -0.0039, -0.0039],\n",
       "        [ 0.0692,  0.9589, -0.0104,  ..., -0.0175, -0.0276, -0.0300],\n",
       "        [ 0.1031,  0.9717, -0.0049,  ..., -0.0131, -0.0215, -0.0275],\n",
       "        ...,\n",
       "        [ 0.0910,  0.0860,  0.0129,  ...,  0.0092,  0.0177,  0.0103],\n",
       "        [ 0.0703,  0.0598,  0.0907,  ...,  0.0319,  0.0062,  0.0959],\n",
       "        [ 0.0636,  0.0984,  0.0485,  ...,  0.0610,  0.0659,  0.0979]],\n",
       "       device='cuda:0', dtype=torch.float64)"
      ]
     },
     "execution_count": 185,
     "metadata": {},
     "output_type": "execute_result"
    }
   ],
   "source": [
    "B_tensor_cuda.detach()"
   ]
  },
  {
   "cell_type": "code",
   "execution_count": 233,
   "metadata": {},
   "outputs": [],
   "source": [
    "# Here we train the network\n",
    "n_dictionary = 22031\n",
    "n_dimension = 256\n",
    "tau = 0.07\n",
    "def train_net(net,\n",
    "              epochs=5,\n",
    "              batch_size=1,\n",
    "              lr=0.001):\n",
    "    optimizer = torch.optim.SGD(net.parameters(), lr,\n",
    "                                momentum=0.9,\n",
    "                                weight_decay=1e-4)\n",
    "    criterion = torch.nn.CrossEntropyLoss()\n",
    "    loss_all = list([])\n",
    "    for epoch in range(epochs):\n",
    "        net.train()\n",
    "        epoch_loss = 0\n",
    "        print(\"Starting Epoch: %d\" %(epoch+1))\n",
    "        for index in range(n_dictionary):\n",
    "            input_dic = fp_train_cuda[index,:,:].unsqueeze(0)\n",
    "            output_dic = net(input_dic)\n",
    "            \n",
    "            \n",
    "            ## error: Trying to backward through the graph a second time, but the buffers have already been freed. Specify retain_graph=True when calling backward the first time.\n",
    "#             print(output_dic)\n",
    "#             B_tensor_cuda.requires_grad = False\n",
    "            output_dic1 = torch.mm(output_dic,B_tensor_cuda.detach().float().transpose(0,1))/tau\n",
    "#             print(output_dic.requires_grad)\n",
    "#             print(output_dic.shape)\n",
    "            loss = criterion(output_dic1,torch.LongTensor([index]).cuda())\n",
    "            if index % 1000 == 0:\n",
    "                print(loss.item())\n",
    "                loss_all.append(loss.item())\n",
    "            epoch_loss += loss.item()\n",
    "            optimizer.zero_grad()\n",
    "            loss.backward()\n",
    "            optimizer.step()\n",
    "            B_tensor_cuda[index,:] = output_dic\n",
    "        print('Epoch finished ! Loss: {}'.format(epoch_loss / 22031))\n",
    "        torch.save(net.state_dict(),\n",
    "                           '/home/kewang/checkpoints_unf/' + 'CP{}.pth'.format(epoch + 1))\n",
    "        np.save(\"loss_all.npy\",np.array(loss_all))\n",
    "        print('Checkpoint {} saved !'.format(epoch + 1))"
   ]
  },
  {
   "cell_type": "code",
   "execution_count": 209,
   "metadata": {},
   "outputs": [],
   "source": [
    "net_uf = UFNet.PixelNet(2)"
   ]
  },
  {
   "cell_type": "code",
   "execution_count": 210,
   "metadata": {},
   "outputs": [],
   "source": [
    "net_ufcuda = net_uf.cuda()"
   ]
  },
  {
   "cell_type": "code",
   "execution_count": 211,
   "metadata": {},
   "outputs": [],
   "source": [
    "fp_train_cuda = torch.tensor(fp_train).cuda()"
   ]
  },
  {
   "cell_type": "code",
   "execution_count": 212,
   "metadata": {},
   "outputs": [],
   "source": [
    "B_tensor_cuda = B_tensor.cuda()"
   ]
  },
  {
   "cell_type": "code",
   "execution_count": null,
   "metadata": {},
   "outputs": [
    {
     "name": "stdout",
     "output_type": "stream",
     "text": [
      "Starting Epoch: 1\n",
      "23.67812728881836\n",
      "7.0704145431518555\n",
      "7.534411430358887\n",
      "7.770453453063965\n",
      "8.029420852661133\n",
      "8.102659225463867\n",
      "7.91826057434082\n",
      "7.784417152404785\n",
      "7.009523391723633\n",
      "5.8642988204956055\n",
      "7.856454849243164\n",
      "8.137837409973145\n",
      "8.168560981750488\n",
      "8.165803909301758\n",
      "8.142561912536621\n",
      "8.191444396972656\n",
      "8.191556930541992\n",
      "6.424860000610352\n",
      "5.887223243713379\n",
      "5.671389579772949\n",
      "8.18789005279541\n",
      "8.759794235229492\n",
      "9.13525390625\n",
      "Epoch finished ! Loss: 7.495940938484414\n",
      "Checkpoint 1 saved !\n",
      "Starting Epoch: 2\n",
      "23.37740707397461\n",
      "5.922143936157227\n",
      "6.813292503356934\n",
      "7.033307075500488\n",
      "7.223241806030273\n",
      "7.222947120666504\n",
      "7.114246368408203\n",
      "6.94333553314209\n",
      "5.98677921295166\n",
      "6.057112693786621\n",
      "7.219635963439941\n",
      "7.504720687866211\n"
     ]
    }
   ],
   "source": [
    "train_net(net_ufcuda,1000,1,0.03)"
   ]
  }
 ],
 "metadata": {
  "kernelspec": {
   "display_name": "Python 3",
   "language": "python",
   "name": "python3"
  },
  "language_info": {
   "codemirror_mode": {
    "name": "ipython",
    "version": 3
   },
   "file_extension": ".py",
   "mimetype": "text/x-python",
   "name": "python",
   "nbconvert_exporter": "python",
   "pygments_lexer": "ipython3",
   "version": "3.6.8"
  }
 },
 "nbformat": 4,
 "nbformat_minor": 2
}
